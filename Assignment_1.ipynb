{
  "nbformat": 4,
  "nbformat_minor": 0,
  "metadata": {
    "colab": {
      "provenance": [],
      "authorship_tag": "ABX9TyNF7+mK5m0h8XKY9X5CWfEv",
      "include_colab_link": true
    },
    "kernelspec": {
      "name": "python3",
      "display_name": "Python 3"
    },
    "language_info": {
      "name": "python"
    }
  },
  "cells": [
    {
      "cell_type": "markdown",
      "metadata": {
        "id": "view-in-github",
        "colab_type": "text"
      },
      "source": [
        "<a href=\"https://colab.research.google.com/github/Mahabjan/PYTHON-PROGRAMMING/blob/main/Assignment_1.ipynb\" target=\"_parent\"><img src=\"https://colab.research.google.com/assets/colab-badge.svg\" alt=\"Open In Colab\"/></a>"
      ]
    },
    {
      "cell_type": "code",
      "execution_count": null,
      "metadata": {
        "id": "awcqhsw4Qjot"
      },
      "outputs": [],
      "source": []
    },
    {
      "cell_type": "markdown",
      "source": [
        "1. Perform arithmetic operations on NumPy arrays."
      ],
      "metadata": {
        "id": "Vzdl5flZRAng"
      }
    },
    {
      "cell_type": "code",
      "source": [
        "import numpy as np\n",
        "\n",
        "# Create two numpy arrays\n",
        "arr1 = np.array([10, 20, 30, 40, 50])\n",
        "arr2 = np.array([5, 4, 3, 2, 1])\n",
        "\n",
        "# Perform arithmetic operations\n",
        "addition = arr1 + arr2\n",
        "subtraction = arr1 - arr2\n",
        "multiplication = arr1 * arr2\n",
        "division = arr1 / arr2\n",
        "addition, subtraction, multiplication, division\n",
        "\n"
      ],
      "metadata": {
        "colab": {
          "base_uri": "https://localhost:8080/"
        },
        "id": "yS9g0RDjRJI4",
        "outputId": "bfa32278-294d-4fd8-a3eb-06a2c6d5d06e"
      },
      "execution_count": 13,
      "outputs": [
        {
          "output_type": "execute_result",
          "data": {
            "text/plain": [
              "(array([15, 24, 33, 42, 51]),\n",
              " array([ 5, 16, 27, 38, 49]),\n",
              " array([50, 80, 90, 80, 50]),\n",
              " array([ 2.,  5., 10., 20., 50.]))"
            ]
          },
          "metadata": {},
          "execution_count": 13
        }
      ]
    },
    {
      "cell_type": "markdown",
      "source": [
        "2. Write a script to compute the mean and standard deviation of a NumPy array."
      ],
      "metadata": {
        "id": "4ezK-53_Rotl"
      }
    },
    {
      "cell_type": "code",
      "source": [
        "# Create a numpy array\n",
        "arr = np.array([10, 20, 10, 40, 15])\n",
        "\n",
        "# Compute mean and standard deviation\n",
        "mean = np.mean(arr)\n",
        "std_dev = np.std(arr)\n",
        "\n",
        "print(f\"Mean: {mean}\")\n",
        "print(f\"Standard Deviation:{std_dev}\")\n"
      ],
      "metadata": {
        "colab": {
          "base_uri": "https://localhost:8080/"
        },
        "id": "AT3f4CRrRtWT",
        "outputId": "e7c9be90-e8bf-4694-bb2f-2e7d726bc427"
      },
      "execution_count": 11,
      "outputs": [
        {
          "output_type": "stream",
          "name": "stdout",
          "text": [
            "Mean: 19.0\n",
            "Standard Deviation:11.135528725660043\n"
          ]
        }
      ]
    },
    {
      "cell_type": "markdown",
      "source": [
        "3. Create a NumPy array of integers from 10 to 50 with a step size of 5."
      ],
      "metadata": {
        "id": "74hKPOHRU2Ut"
      }
    },
    {
      "cell_type": "code",
      "source": [
        "# Create the array with step size of 5\n",
        "arr = np.arange(10, 51, 5)\n",
        "\n",
        "print(arr)\n"
      ],
      "metadata": {
        "colab": {
          "base_uri": "https://localhost:8080/"
        },
        "id": "97RRFmPSU6jV",
        "outputId": "f833f64b-e49a-4305-d5ad-f5074fa59ff7"
      },
      "execution_count": 15,
      "outputs": [
        {
          "output_type": "stream",
          "name": "stdout",
          "text": [
            "[10 15 20 25 30 35 40 45 50]\n"
          ]
        }
      ]
    },
    {
      "cell_type": "markdown",
      "source": [
        "4. Reshape the array into a 2x4 matrix."
      ],
      "metadata": {
        "id": "4CBsEdkaVXse"
      }
    },
    {
      "cell_type": "code",
      "source": [
        "import numpy as np\n",
        "\n",
        "# Create an array with 8 elements\n",
        "arr = np.array([10, 20, 30, 40, 50,60,70,80])\n",
        "\n",
        "# Reshape the array into a 2x4 matrix\n",
        "reshaped_arr = arr.reshape(2, 4)\n",
        "\n",
        "# Display the reshaped array\n",
        "print(reshaped_arr)\n"
      ],
      "metadata": {
        "colab": {
          "base_uri": "https://localhost:8080/"
        },
        "id": "NVCJ4kk-Vbg7",
        "outputId": "5d498d85-2a51-4099-b621-43636069dae2"
      },
      "execution_count": 19,
      "outputs": [
        {
          "output_type": "stream",
          "name": "stdout",
          "text": [
            "[[10 20 30 40]\n",
            " [50 60 70 80]]\n"
          ]
        }
      ]
    },
    {
      "cell_type": "markdown",
      "source": [
        "5. Given the array arr = np.array([[1, 2, 3], [4, 5, 6], [7, 8, 9]]):\n",
        "• Extract the sub-matrix containing the last two rows and first two columns.\n",
        "• Replace all elements greater than 4 with 0."
      ],
      "metadata": {
        "id": "cg9hePj8Wk1q"
      }
    },
    {
      "cell_type": "code",
      "source": [
        "# Create the array\n",
        "arr = np.array([[1, 2, 3], [4, 5, 6], [7, 8, 9]])\n",
        "\n",
        "# Extract sub-matrix with last two rows and first two columns\n",
        "sub_matrix = arr[1:, :2]\n",
        "\n",
        "# Replace elements greater than 4 with 0\n",
        "arr[arr > 4] = 0\n",
        "\n",
        "print(sub_matrix)\n",
        "print(arr)\n"
      ],
      "metadata": {
        "colab": {
          "base_uri": "https://localhost:8080/"
        },
        "id": "-7xlh88uWrkN",
        "outputId": "d9dc19d4-32ec-408b-f17b-025bc3fe115c"
      },
      "execution_count": 21,
      "outputs": [
        {
          "output_type": "stream",
          "name": "stdout",
          "text": [
            "[[4 0]\n",
            " [0 0]]\n",
            "[[1 2 3]\n",
            " [4 0 0]\n",
            " [0 0 0]]\n"
          ]
        }
      ]
    },
    {
      "cell_type": "markdown",
      "source": [
        "6. Create two 1D arrays:\n",
        "• a = np.array([1, 2, 3])\n",
        "• b = np.array([4, 5, 6])\n",
        "• Perform element-wise addition, multiplication, and division"
      ],
      "metadata": {
        "id": "Wu37F8rAXnMA"
      }
    },
    {
      "cell_type": "code",
      "source": [
        "# Create arrays a and b\n",
        "a = np.array([1, 2, 3])\n",
        "b = np.array([4, 5, 6])\n",
        "\n",
        "# Element-wise operations\n",
        "addition = a + b\n",
        "multiplication = a * b\n",
        "division = a / b\n",
        "\n",
        "addition, multiplication, division\n"
      ],
      "metadata": {
        "colab": {
          "base_uri": "https://localhost:8080/"
        },
        "id": "soxogLmcXrJa",
        "outputId": "6abd03cb-fb09-497e-f4e3-af364df00ccf"
      },
      "execution_count": 22,
      "outputs": [
        {
          "output_type": "execute_result",
          "data": {
            "text/plain": [
              "(array([5, 7, 9]), array([ 4, 10, 18]), array([0.25, 0.4 , 0.5 ]))"
            ]
          },
          "metadata": {},
          "execution_count": 22
        }
      ]
    },
    {
      "cell_type": "markdown",
      "source": [
        "7. Create a random NumPy array of size (4, 4). Compute:\n",
        "• Mean of each column.\n",
        "• Maximum value of the entire array.\n",
        "• Sum of all elements."
      ],
      "metadata": {
        "id": "7TOJOudyX6mg"
      }
    },
    {
      "cell_type": "code",
      "source": [
        "# Create a random array of size (4, 4)\n",
        "arr = np.random.randint(1, 100, size=(4, 4))\n",
        "\n",
        "# Compute the mean of each column\n",
        "column_mean = np.mean(arr, axis=0)\n",
        "\n",
        "# Maximum value of the entire array\n",
        "max_value = np.max(arr)\n",
        "\n",
        "# Sum of all elements\n",
        "sum_elements = np.sum(arr)\n",
        "\n",
        "column_mean, max_value, sum_elements\n"
      ],
      "metadata": {
        "colab": {
          "base_uri": "https://localhost:8080/"
        },
        "id": "cVJ17qVRX_bC",
        "outputId": "eb60c5f3-9ddd-450f-85c7-dd093edd1f7d"
      },
      "execution_count": 23,
      "outputs": [
        {
          "output_type": "execute_result",
          "data": {
            "text/plain": [
              "(array([39.5 , 62.25, 58.75, 65.75]), 95, 905)"
            ]
          },
          "metadata": {},
          "execution_count": 23
        }
      ]
    },
    {
      "cell_type": "markdown",
      "source": [
        "8. Given the array arr = np.array([1, 2, 3, 4]), add 10 to each element and multiply\n",
        "the result by 2.\n"
      ],
      "metadata": {
        "id": "Vqqe3SH2Ym39"
      }
    },
    {
      "cell_type": "code",
      "source": [
        "# Create the array\n",
        "arr = np.array([1, 2, 3, 4])\n",
        "\n",
        "# Add 10 to each element and multiply the result by 2\n",
        "result = (arr + 10) * 2\n",
        "\n",
        "print(result)\n"
      ],
      "metadata": {
        "colab": {
          "base_uri": "https://localhost:8080/"
        },
        "id": "lYLTF4s9Ystq",
        "outputId": "b04584cc-e93b-415e-d72c-652cfa47fe1a"
      },
      "execution_count": 24,
      "outputs": [
        {
          "output_type": "stream",
          "name": "stdout",
          "text": [
            "[22 24 26 28]\n"
          ]
        }
      ]
    },
    {
      "cell_type": "markdown",
      "source": [
        "9. Perform advanced slicing and indexing on a 3D array.\n",
        "Create a 3D NumPy array arr of shape (3, 4, 5) with random integers ranging from\n",
        "1 to 100. Perform the following:\n",
        "• Extract the second \"layer\" (i.e., the second 2D array) in the first dimension.\n",
        "• Extract the first two rows and the last three columns from each \"layer.\"\n",
        "• Replace all elements divisible by 3 with -1."
      ],
      "metadata": {
        "id": "a_ctbM3YY7UR"
      }
    },
    {
      "cell_type": "code",
      "source": [
        "# Create a 3D array of shape (3, 4, 5)\n",
        "arr = np.random.randint(1, 100, size=(3, 4, 5))\n",
        "\n",
        "# Extract the second \"layer\"\n",
        "second_layer = arr[1, :, :]\n",
        "\n",
        "# Extract the first two rows and last three columns from each \"layer\"\n",
        "sliced_arr = arr[:, :2, -3:]\n",
        "\n",
        "# Replace all elements divisible by 3 with -1\n",
        "arr[arr % 3 == 0] = -1\n",
        "\n",
        "second_layer, sliced_arr, arr\n"
      ],
      "metadata": {
        "colab": {
          "base_uri": "https://localhost:8080/"
        },
        "id": "laC2If8-ZBgk",
        "outputId": "2a5df225-aadb-463c-ec7c-350120eb4114"
      },
      "execution_count": 25,
      "outputs": [
        {
          "output_type": "execute_result",
          "data": {
            "text/plain": [
              "(array([[76, -1, 19, -1, 56],\n",
              "        [70, 53, -1,  1, 49],\n",
              "        [58, 64, 47, -1, -1],\n",
              "        [-1, -1, -1, -1, 38]]),\n",
              " array([[[ 7, -1, -1],\n",
              "         [11, -1, 22]],\n",
              " \n",
              "        [[19, -1, 56],\n",
              "         [-1,  1, 49]],\n",
              " \n",
              "        [[-1, -1, 88],\n",
              "         [-1, -1, 38]]]),\n",
              " array([[[68, 71,  7, -1, -1],\n",
              "         [28, 25, 11, -1, 22],\n",
              "         [-1, -1, -1, -1, 25],\n",
              "         [31, 41, 58, -1, 37]],\n",
              " \n",
              "        [[76, -1, 19, -1, 56],\n",
              "         [70, 53, -1,  1, 49],\n",
              "         [58, 64, 47, -1, -1],\n",
              "         [-1, -1, -1, -1, 38]],\n",
              " \n",
              "        [[62, 76, -1, -1, 88],\n",
              "         [76, 23, -1, -1, 38],\n",
              "         [-1, -1, 95, 95, -1],\n",
              "         [64, 53, 20,  2,  1]]]))"
            ]
          },
          "metadata": {},
          "execution_count": 25
        }
      ]
    }
  ]
}